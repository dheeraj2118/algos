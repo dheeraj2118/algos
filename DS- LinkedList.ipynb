{
 "cells": [
  {
   "cell_type": "markdown",
   "metadata": {},
   "source": [
    "## Data Structures\n",
    "### Linked List"
   ]
  },
  {
   "cell_type": "code",
   "execution_count": 5,
   "metadata": {},
   "outputs": [],
   "source": [
    "class Node:\n",
    "    def __init__(self, value):\n",
    "        self.value = value\n",
    "        self.next = None"
   ]
  },
  {
   "cell_type": "code",
   "execution_count": 121,
   "metadata": {},
   "outputs": [],
   "source": [
    "class LinkedList:\n",
    "    def __init__(self):\n",
    "        self.head = None\n",
    "        self.tail = None\n",
    "        self.length = 0\n",
    "    \n",
    "    def add_node(self, node):\n",
    "        if(self.head is None):\n",
    "            self.head = node\n",
    "            self.tail = node\n",
    "            self.length += 1\n",
    "            return True\n",
    "        else:\n",
    "            self.tail.next = node\n",
    "            self.tail = self.tail.next\n",
    "            self.length += 1\n",
    "            return True\n",
    "            \n",
    "    def search_item(self, value):\n",
    "        if(self.head is None):\n",
    "            return \"List Empty\"\n",
    "        else:\n",
    "            current = self.head\n",
    "            for i in range(self.length):\n",
    "                if(current.value == value):\n",
    "                    return \"Found\"\n",
    "                else:\n",
    "                    current = current.next\n",
    "            return \"Not Found\"\n",
    "            \n",
    "    def __repr__(self):\n",
    "        if(self.head is None):\n",
    "            return \"\"\n",
    "        else:\n",
    "            current = self.head\n",
    "            list_str = []\n",
    "            for i in range(self.length):\n",
    "                list_str.append([ current.value, id(current.next)])\n",
    "                current = current.next\n",
    "            return str(list_str)"
   ]
  },
  {
   "cell_type": "code",
   "execution_count": 118,
   "metadata": {},
   "outputs": [
    {
     "data": {
      "text/plain": [
       "'A'"
      ]
     },
     "execution_count": 118,
     "metadata": {},
     "output_type": "execute_result"
    }
   ],
   "source": [
    "a = Node(\"A\")\n",
    "ll = LinkedList()\n",
    "ll.add_node(a)\n",
    "ll.tail.value"
   ]
  },
  {
   "cell_type": "code",
   "execution_count": 119,
   "metadata": {},
   "outputs": [
    {
     "data": {
      "text/plain": [
       "True"
      ]
     },
     "execution_count": 119,
     "metadata": {},
     "output_type": "execute_result"
    }
   ],
   "source": [
    "b = Node(\"B\")\n",
    "c = Node(\"C\")\n",
    "ll.add_node(b)\n",
    "ll.add_node(c)"
   ]
  },
  {
   "cell_type": "code",
   "execution_count": 122,
   "metadata": {},
   "outputs": [
    {
     "data": {
      "text/plain": [
       "'List Empty'"
      ]
     },
     "execution_count": 122,
     "metadata": {},
     "output_type": "execute_result"
    }
   ],
   "source": [
    "ll2  = LinkedList()\n",
    "ll2.search_item('X')"
   ]
  },
  {
   "cell_type": "code",
   "execution_count": null,
   "metadata": {},
   "outputs": [],
   "source": []
  },
  {
   "cell_type": "code",
   "execution_count": null,
   "metadata": {},
   "outputs": [],
   "source": []
  }
 ],
 "metadata": {
  "kernelspec": {
   "display_name": "Python 2",
   "language": "python",
   "name": "python2"
  },
  "language_info": {
   "codemirror_mode": {
    "name": "ipython",
    "version": 2
   },
   "file_extension": ".py",
   "mimetype": "text/x-python",
   "name": "python",
   "nbconvert_exporter": "python",
   "pygments_lexer": "ipython2",
   "version": "2.7.16"
  }
 },
 "nbformat": 4,
 "nbformat_minor": 2
}
